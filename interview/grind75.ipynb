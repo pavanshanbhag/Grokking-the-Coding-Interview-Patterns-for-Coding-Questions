{
 "cells": [
  {
   "cell_type": "code",
   "execution_count": 3,
   "metadata": {},
   "outputs": [],
   "source": [
    "def add_binary(str1, str2):\n",
    "    ptr1, ptr2, carry, total_sum = len(str1)-1, len(str2)-1, 0, 0\n",
    "    result = []\n",
    "    while ptr1>=0 or ptr2 >=0:\n",
    "        digit1 = int(str1[ptr1]) if ptr1 >= 0 else 0  # alternAtive : ord(str1[ptr1])-ord('0')\n",
    "        digit2 = int(str2[ptr2]) if ptr2 >= 0 else 0\n",
    "\n",
    "        total_sum = digit1 + digit2 + carry\n",
    "        current_digit = total_sum%2\n",
    "        carry = total_sum//2\n",
    "        result.append(current_digit)\n",
    "        ptr1-=1\n",
    "        ptr2-=1\n",
    "\n",
    "    if carry:\n",
    "        result.append(carry)\n",
    "    result = result[::-1]\n",
    "    binary_sum = \"\".join(str(digit) for digit in result)\n",
    "\n",
    "    return binary_sum\n"
   ]
  },
  {
   "cell_type": "code",
   "execution_count": 5,
   "metadata": {},
   "outputs": [
    {
     "name": "stdout",
     "output_type": "stream",
     "text": [
      "1011\n",
      "10110\n",
      "1011\n"
     ]
    }
   ],
   "source": [
    "print(add_binary(\"100\",\"111\"))\n",
    "print(add_binary(\"1011\",\"1011\"))\n",
    "print(add_binary(\"100\",\"111\"))"
   ]
  },
  {
   "cell_type": "code",
   "execution_count": 7,
   "metadata": {},
   "outputs": [
    {
     "data": {
      "text/plain": [
       "2"
      ]
     },
     "execution_count": 7,
     "metadata": {},
     "output_type": "execute_result"
    }
   ],
   "source": [
    "5//2"
   ]
  },
  {
   "cell_type": "code",
   "execution_count": null,
   "metadata": {},
   "outputs": [],
   "source": []
  }
 ],
 "metadata": {
  "kernelspec": {
   "display_name": ".venv",
   "language": "python",
   "name": "python3"
  },
  "language_info": {
   "codemirror_mode": {
    "name": "ipython",
    "version": 3
   },
   "file_extension": ".py",
   "mimetype": "text/x-python",
   "name": "python",
   "nbconvert_exporter": "python",
   "pygments_lexer": "ipython3",
   "version": "3.11.6"
  }
 },
 "nbformat": 4,
 "nbformat_minor": 2
}
