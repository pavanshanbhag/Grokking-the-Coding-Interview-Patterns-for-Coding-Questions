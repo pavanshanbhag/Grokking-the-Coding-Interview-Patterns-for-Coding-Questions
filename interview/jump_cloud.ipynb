{
 "cells": [
  {
   "cell_type": "markdown",
   "metadata": {},
   "source": [
    "Prompt - given an array A of N integers, return the smallest positive integer greater than 0 that does not occur in A.. Write an efficient algorithm for the following assumptions N is an integer within the range [1..100000] each element of array A is an integer within the range[-1000000.. 1000000]"
   ]
  },
  {
   "cell_type": "code",
   "execution_count": 3,
   "metadata": {},
   "outputs": [
    {
     "name": "stdout",
     "output_type": "stream",
     "text": [
      "2\n",
      "3\n"
     ]
    }
   ],
   "source": [
    "def smallest_missing_positive(A):\n",
    "    # Create a set to store positive integers in the array\n",
    "    positive_set = set()\n",
    "\n",
    "    # Add all positive integers from the array to the set\n",
    "    for num in A:\n",
    "        if num > 0:\n",
    "            positive_set.add(num)\n",
    "\n",
    "    # Start checking from 1 upwards to find the smallest missing positive integer\n",
    "    smallest_missing = 1\n",
    "    while smallest_missing in positive_set:\n",
    "        smallest_missing += 1\n",
    "\n",
    "    return smallest_missing\n",
    "\n",
    "# Example usage\n",
    "A = [3, 4, -1, 1]\n",
    "print(smallest_missing_positive(A))  # Output: 2\n",
    "\n",
    "A = [1, 2, 0]\n",
    "print(smallest_missing_positive(A))  # Output: 3"
   ]
  },
  {
   "cell_type": "markdown",
   "metadata": {},
   "source": [
    "The solution provided is efficient, but there is a more optimal approach that uses constant space (O(1) space complexity) while maintaining linear time complexity (O(N)). This approach involves modifying the input array in place.\n",
    "\n",
    "Optimal Approach: Using Index as a Hash\n",
    "Segregate Positive Numbers: First, we segregate positive numbers from non-positive numbers.\n",
    "Marking: Use the index of the array to mark the presence of numbers.\n",
    "Finding the Missing Positive: Finally, find the first index which is not marked.\n",
    "Here is the Python code for this approach:"
   ]
  },
  {
   "cell_type": "code",
   "execution_count": 4,
   "metadata": {},
   "outputs": [
    {
     "name": "stdout",
     "output_type": "stream",
     "text": [
      "2\n",
      "3\n"
     ]
    }
   ],
   "source": [
    "def smallest_missing_positive(A):\n",
    "    n = len(A)\n",
    "    \n",
    "    # Step 1: Segregate positive numbers from non-positive numbers\n",
    "    j = 0\n",
    "    for i in range(n):\n",
    "        if A[i] <= 0:\n",
    "            A[i], A[j] = A[j], A[i]\n",
    "            j += 1\n",
    "    \n",
    "    # Now, A[j:] contains all positive numbers\n",
    "    A = A[j:]\n",
    "    n = len(A)\n",
    "    \n",
    "    # Step 2: Use index as a hash to mark presence of numbers\n",
    "    for i in range(n):\n",
    "        val = abs(A[i])\n",
    "        if val - 1 < n and A[val - 1] > 0:\n",
    "            A[val - 1] = -A[val - 1]\n",
    "    \n",
    "    # Step 3: Find the first index which is not marked\n",
    "    for i in range(n):\n",
    "        if A[i] > 0:\n",
    "            return i + 1\n",
    "    \n",
    "    return n + 1\n",
    "\n",
    "# Example usage\n",
    "A = [3, 4, -1, 1]\n",
    "print(smallest_missing_positive(A))  # Output: 2\n",
    "\n",
    "A = [1, 2, 0]\n",
    "print(smallest_missing_positive(A))  # Output: 3"
   ]
  },
  {
   "cell_type": "markdown",
   "metadata": {},
   "source": []
  },
  {
   "cell_type": "markdown",
   "metadata": {},
   "source": [
    "\n",
    "Prompt 1 - \n",
    "array is called bi-valued if contains at most two different numbers for ex - [4,5,5,4,5] is bi-valued but [1,5,4,5] is not bivalued What is the lenght of the longest bi-valued slice continues fragment in an given array\n",
    "\n",
    "write a function, given array A consisting of N integers returns the length of the longest bi-valued slice in A.\n",
    "\n",
    "Assumption :\n",
    "- N is a integer within the range [1..100,000]\n",
    "- each element of array A is an integer within the range [-1000000000..1000000000]\n",
    "\n",
    "write the most performant and optimised code\n",
    "\n",
    "\n",
    "Here's the step-by-step plan:\n",
    "\n",
    "Initialize Variables:\n",
    "\n",
    "Use two pointers (start and end) to represent the current window of the subarray.\n",
    "Use a dictionary to keep track of the frequency of elements in the current window.\n",
    "Maintain a variable to store the length of the longest bi-valued slice found so far.\n",
    "Expand the Window:\n",
    "\n",
    "Iterate through the array using the end pointer.\n",
    "Add the current element to the dictionary and update its frequency.\n",
    "Shrink the Window:\n",
    "\n",
    "If the dictionary contains more than two distinct elements, move the start pointer to the right until the dictionary contains at most two distinct elements again.\n",
    "Update the dictionary accordingly by decrementing the frequency of the element at the start pointer and removing it if its frequency becomes zero.\n",
    "Update the Maximum Length:\n",
    "\n",
    "After adjusting the window, update the maximum length of the bi-valued slice if the current window is longer.\n"
   ]
  },
  {
   "cell_type": "code",
   "execution_count": 2,
   "metadata": {},
   "outputs": [
    {
     "name": "stdout",
     "output_type": "stream",
     "text": [
      "5\n"
     ]
    }
   ],
   "source": [
    "# submitted\n",
    "def longest_bi_valued_slice(A):\n",
    "    if not A:\n",
    "        return 0\n",
    "    \n",
    "    start = 0\n",
    "    max_length = 0\n",
    "    freq = {}\n",
    "    \n",
    "    for end in range(len(A)):\n",
    "        # Add the current element to the frequency dictionary\n",
    "        if A[end] in freq:\n",
    "            freq[A[end]] += 1\n",
    "        else:\n",
    "            freq[A[end]] = 1\n",
    "        \n",
    "        # If there are more than two distinct elements, shrink the window\n",
    "        while len(freq) > 2:\n",
    "            freq[A[start]] -= 1\n",
    "            if freq[A[start]] == 0:\n",
    "                del freq[A[start]]\n",
    "            start += 1\n",
    "        \n",
    "        # Update the maximum length of the bi-valued slice\n",
    "        max_length = max(max_length, end - start + 1)\n",
    "    \n",
    "    return max_length\n",
    "\n",
    "# Example usage:\n",
    "A = [4, 5, 5, 4, 5]\n",
    "print(longest_bi_valued_slice(A))  # Output should be 5"
   ]
  },
  {
   "cell_type": "markdown",
   "metadata": {},
   "source": [
    "Prompt 2 - given an array A consisting of N integers return the biggest value X which occurs in A exactly X times. If there is no such value the function should return 0\n",
    "\n",
    "\n",
    "Write efficient code with following assumptions:\n",
    "- N is an integer within the range [1..100000]\n",
    "- each element of array A is an integer within the range [1..1000000000]"
   ]
  },
  {
   "cell_type": "markdown",
   "metadata": {},
   "source": [
    "To solve this problem efficiently, we can use the following approach:\n",
    "\n",
    "Count Occurrences: Use a dictionary to count the occurrences of each integer in the array.\n",
    "Find Valid Values: Iterate through the dictionary to find the values that occur exactly as many times as their value.\n",
    "Determine the Maximum: Track the maximum value that meets the criteria.\n",
    "Here is the detailed pseudocode:\n",
    "\n",
    "Initialize an empty dictionary count_dict to store the frequency of each element.\n",
    "Iterate through the array A and populate count_dict with the frequency of each element.\n",
    "Initialize a variable max_value to 0.\n",
    "Iterate through the items in count_dict:\n",
    "If the key (element) is equal to its value (frequency) and is greater than max_value, update max_value.\n",
    "Return max_value.\n",
    "Now, let's implement this in Python:"
   ]
  },
  {
   "cell_type": "code",
   "execution_count": 6,
   "metadata": {},
   "outputs": [
    {
     "name": "stdout",
     "output_type": "stream",
     "text": [
      "3\n"
     ]
    }
   ],
   "source": [
    "def find_largest_value_with_exact_occurrences(A):\n",
    "    # Step 1: Count occurrences of each element\n",
    "    count_dict = {}\n",
    "    for num in A:\n",
    "        if num in count_dict:\n",
    "            count_dict[num] += 1\n",
    "        else:\n",
    "            count_dict[num] = 1\n",
    "    \n",
    "    # Step 2: Find the maximum value that occurs exactly as many times as its value\n",
    "    max_value = 0\n",
    "    for key, value in count_dict.items():\n",
    "        if key == value and key > max_value:\n",
    "            max_value = key\n",
    "    \n",
    "    return max_value\n",
    "\n",
    "# Example usage:\n",
    "A = [3, 8, 2, 3, 3, 2]\n",
    "print(find_largest_value_with_exact_occurrences(A))  # Output should be 3"
   ]
  },
  {
   "cell_type": "code",
   "execution_count": 7,
   "metadata": {},
   "outputs": [
    {
     "name": "stdout",
     "output_type": "stream",
     "text": [
      "3\n"
     ]
    }
   ],
   "source": [
    "from collections import Counter\n",
    "\n",
    "def find_largest_value_with_exact_occurrences(A):\n",
    "    # Step 1: Count occurrences of each element using Counter\n",
    "    count_dict = Counter(A)\n",
    "    \n",
    "    # Step 2: Find the maximum value that occurs exactly as many times as its value\n",
    "    max_value = 0\n",
    "    for key, value in count_dict.items():\n",
    "        if key == value and key > max_value:\n",
    "            max_value = key\n",
    "    \n",
    "    return max_value\n",
    "\n",
    "# Example usage:\n",
    "A = [3, 8, 2, 3, 3, 2]\n",
    "print(find_largest_value_with_exact_occurrences(A))  # Output should be 3"
   ]
  },
  {
   "cell_type": "markdown",
   "metadata": {},
   "source": [
    "Prompt 3 -\n",
    "lets consider interesting pattern that could be observed on digital clock . clock displays time using format HH:MM:SS where \n",
    "HH is hour of the day 00 through 24 as two decimal digit\n",
    "MM is minute within the hour 00 through 59\n",
    "SS is second within the minutre \n",
    "Note hour, minute and second are always represented as two digits so clock displays leading zeros if needed.\n",
    "\n",
    "point in time is interesting if digital clock needs at most two distinct digits to display it.\n",
    "Ex - 13:31:33 and 02:20:22\n",
    "but 16:45:11 is not due to fact that more than two distinct digits are used .\n",
    "\n",
    ": delimiter character is permanently printed and doest count as one of the displayed digits.\n",
    "\n",
    "write a program to count intersting points in time in a given period of time\n",
    "Function takes S, T as input in format HH:MM:SS\n",
    "return number of interesitng points in time between S and T inclusive\n",
    "\n",
    "Assumptions:\n",
    "S and T are string that follows HH:MM:SS format strictly\n",
    "S describes point in time before T on the same day\n",
    "\n",
    "Solution should absolutely focus on correctness"
   ]
  },
  {
   "cell_type": "code",
   "execution_count": 1,
   "metadata": {},
   "outputs": [
    {
     "name": "stdout",
     "output_type": "stream",
     "text": [
      "16\n"
     ]
    }
   ],
   "source": [
    "\n",
    "from datetime import datetime, timedelta\n",
    "\n",
    "def is_interesting(time_str):\n",
    "    # Remove the colons and check the number of distinct digits\n",
    "    digits = set(time_str.replace(\":\", \"\"))\n",
    "    return len(digits) <= 2\n",
    "\n",
    "def count_interesting_times(S, T):\n",
    "    # Convert the input strings to datetime objects\n",
    "    start_time = datetime.strptime(S, \"%H:%M:%S\")\n",
    "    end_time = datetime.strptime(T, \"%H:%M:%S\")\n",
    "\n",
    "    # Initialize the count of interesting times\n",
    "    interesting_count = 0\n",
    "\n",
    "    # Iterate through each second from start_time to end_time\n",
    "    current_time = start_time\n",
    "    while current_time <= end_time:\n",
    "        time_str = current_time.strftime(\"%H:%M:%S\")\n",
    "        if is_interesting(time_str):\n",
    "            interesting_count += 1\n",
    "        current_time += timedelta(seconds=1)\n",
    "\n",
    "    return interesting_count\n",
    "\n",
    "# Example usage:\n",
    "S = \"13:00:00\"\n",
    "T = \"13:59:59\"\n",
    "print(count_interesting_times(S, T))  # Output will be the count of interesting times between S and T\n"
   ]
  },
  {
   "cell_type": "code",
   "execution_count": 5,
   "metadata": {},
   "outputs": [
    {
     "name": "stdout",
     "output_type": "stream",
     "text": [
      "16\n"
     ]
    }
   ],
   "source": [
    "from datetime import datetime, timedelta\n",
    "\n",
    "def count_interesting_times(S, T):\n",
    "    # Parse the start and end times\n",
    "    start_time = datetime.strptime(S, \"%H:%M:%S\")\n",
    "    end_time = datetime.strptime(T, \"%H:%M:%S\")\n",
    "    \n",
    "    # Initialize the counter for interesting times\n",
    "    interesting_count = 0\n",
    "    \n",
    "    # Iterate through each second between start_time and end_time\n",
    "    current_time = start_time\n",
    "    while current_time <= end_time:\n",
    "        # Format the current time as HH:MM:SS\n",
    "        time_str = current_time.strftime(\"%H:%M:%S\")\n",
    "        \n",
    "        # Check if the time string has at most two distinct digits\n",
    "        distinct_digits = set(time_str.replace(\":\", \"\"))\n",
    "        if len(distinct_digits) <= 2:\n",
    "            interesting_count += 1\n",
    "        \n",
    "        # Move to the next second\n",
    "        current_time += timedelta(seconds=1)\n",
    "    \n",
    "    return interesting_count\n",
    "\n",
    "# Example usage:\n",
    "S = \"13:00:00\"\n",
    "T = \"13:59:59\"\n",
    "print(count_interesting_times(S, T))  # Output will be the count of interesting times between S and T"
   ]
  },
  {
   "cell_type": "markdown",
   "metadata": {},
   "source": [
    "\n",
    "To solve this problem, we need to:\n",
    "\n",
    "Parse the start time S and end time T.\n",
    "Iterate through each second between S and T.\n",
    "Check if the current time uses at most two distinct digits.\n",
    "Count the number of interesting times.\n",
    "Here's the step-by-step plan:\n",
    "\n",
    "Parse Input: Convert S and T into hours, minutes, and seconds.\n",
    "Iterate Through Time: Use a loop to iterate from S to T second by second.\n",
    "Check Interesting Time: For each time, check if it contains at most two distinct digits.\n",
    "Count Interesting Times: Maintain a counter to count the number of interesting times.\n",
    "Let's implement this in Python:\n",
    "\n",
    "Explanation:\n",
    "Time Parsing: We use datetime.strptime to parse the input strings S and T into datetime objects.\n",
    "Iteration: We use a while loop to iterate from start_time to end_time, incrementing by one second each iteration using timedelta(seconds=1).\n",
    "Interesting Time Check: For each time, we format it as a string and check the number of distinct digits by converting the string to a set (excluding the colon :).\n",
    "Counting: We maintain a counter interesting_count to count the number of interesting times.\n",
    "This solution ensures correctness by checking each second within the given range and counting those that meet the criteria. The use of datetime and timedelta ensures that the time increments are handled correctly."
   ]
  },
  {
   "cell_type": "code",
   "execution_count": null,
   "metadata": {},
   "outputs": [],
   "source": []
  }
 ],
 "metadata": {
  "kernelspec": {
   "display_name": ".venv",
   "language": "python",
   "name": "python3"
  },
  "language_info": {
   "codemirror_mode": {
    "name": "ipython",
    "version": 3
   },
   "file_extension": ".py",
   "mimetype": "text/x-python",
   "name": "python",
   "nbconvert_exporter": "python",
   "pygments_lexer": "ipython3",
   "version": "3.11.6"
  }
 },
 "nbformat": 4,
 "nbformat_minor": 2
}
