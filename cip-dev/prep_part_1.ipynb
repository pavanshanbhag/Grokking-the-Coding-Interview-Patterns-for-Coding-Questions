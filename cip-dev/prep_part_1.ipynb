{
 "cells": [
  {
   "cell_type": "code",
   "execution_count": null,
   "metadata": {},
   "outputs": [],
   "source": [
    "from collections import OrderedDict\n",
    "\n",
    "d = {\"Mark\": 3, \"Alice\": 2, \"Bob\": 1}\n",
    "\n",
    "# dictionary sorted by key\n",
    "d1 = OrderedDict(sorted(d.items(), key=lambda t: t[0]))\n",
    "print(d1)\n",
    "\n",
    "# dictionary sorted by lenght of key\n",
    "d2 = OrderedDict(sorted(d.items(), key=lambda t: len(t[0])))\n",
    "print(d2)\n",
    "\n",
    "# dictionary sorted by value\n",
    "d3 = OrderedDict(sorted(d.items(), key=lambda t: t[1]))\n",
    "print(d3)"
   ]
  },
  {
   "cell_type": "code",
   "execution_count": null,
   "metadata": {},
   "outputs": [],
   "source": [
    "from datetime import date, datetime, timedelta\n",
    "\n",
    "print(date(2024, 9, 16))"
   ]
  },
  {
   "cell_type": "code",
   "execution_count": null,
   "metadata": {},
   "outputs": [],
   "source": [
    "print(datetime.now())\n",
    "d = datetime.now()\n",
    "d.strftime\n",
    "print(d + timedelta(days=1))"
   ]
  },
  {
   "cell_type": "code",
   "execution_count": 1,
   "metadata": {},
   "outputs": [],
   "source": [
    "intervals = [[16, 18], [8, 10], [12, 15], [1, 3], [2, 5], [6, 7]]"
   ]
  },
  {
   "cell_type": "code",
   "execution_count": 30,
   "metadata": {},
   "outputs": [
    {
     "name": "stdout",
     "output_type": "stream",
     "text": [
      "10\n",
      "[90]\n",
      "[90, 100]\n",
      "[60, 70, 80, 90]\n",
      "10\n",
      "8\n",
      "6\n",
      "4\n",
      "2\n"
     ]
    }
   ],
   "source": [
    "# slicing\n",
    "\n",
    "lst = [10, 20, 30, 40, 50, 60, 70, 80, 90, 100]\n",
    "print(len(lst))\n",
    "print(lst[8:-1])  # 8 upto last excluding last\n",
    "print(lst[8:])  # 8 till last\n",
    "print(lst[5:-1])  # 5 upto last excluding last\n",
    "for i in range(10, 0, -2):\n",
    "    print(i)\n"
   ]
  },
  {
   "cell_type": "code",
   "execution_count": 37,
   "metadata": {},
   "outputs": [],
   "source": [
    "def serialize(root, result=None):\n",
    "    if result is None:\n",
    "        result = []\n",
    "    if root is None:\n",
    "        result.append(\"null\")\n",
    "    else:\n",
    "        result.append(str(root.val))\n",
    "        serialize(root.left, result)\n",
    "        serialize(root.right, result)\n",
    "    return result\n",
    "\n",
    "def de"
   ]
  },
  {
   "cell_type": "code",
   "execution_count": 38,
   "metadata": {},
   "outputs": [
    {
     "name": "stdout",
     "output_type": "stream",
     "text": [
      "5\n"
     ]
    }
   ],
   "source": [
    "print(f(2, 5, [1, 2, 3]))"
   ]
  },
  {
   "cell_type": "code",
   "execution_count": 41,
   "metadata": {},
   "outputs": [
    {
     "name": "stdout",
     "output_type": "stream",
     "text": [
      "7\n"
     ]
    }
   ],
   "source": [
    "# subarrays with k different integers\n",
    "from collections import Counter\n",
    "\n",
    "\n",
    "def subarrays_with_k_different_integers(arr, k):\n",
    "    n = len(arr)\n",
    "    count = 0\n",
    "    for i in range(n):\n",
    "        c = Counter()\n",
    "        for j in range(i, n):\n",
    "            c[arr[j]] += 1\n",
    "            if len(c) == k:\n",
    "                count += 1\n",
    "            if len(c) > k:\n",
    "                break\n",
    "    return count\n",
    "\n",
    "\n",
    "# TC = O(n^2) SC = O(n)\n",
    "\n",
    "\n",
    "def subarrays_with_k_different_integers_1(arr, k):\n",
    "    def at_most_k(arr, k):\n",
    "        count = Counter()\n",
    "        left = 0\n",
    "        result = 0\n",
    "        for right in range(len(arr)):\n",
    "            if count[arr[right]] == 0:\n",
    "                k -= 1\n",
    "            count[arr[right]] += 1\n",
    "            while k < 0:\n",
    "                count[arr[left]] -= 1\n",
    "                if count[arr[left]] == 0:\n",
    "                    k += 1\n",
    "                left += 1\n",
    "            result += right - left + 1\n",
    "        return result\n",
    "\n",
    "    return at_most_k(arr, k) - at_most_k(arr, k - 1)\n",
    "\n",
    "\n",
    "# TC = O(n) SC = O(n)\n",
    "\n",
    "print(subarrays_with_k_different_integers([1, 2, 1, 2, 3], 2))\n"
   ]
  },
  {
   "cell_type": "code",
   "execution_count": null,
   "metadata": {},
   "outputs": [],
   "source": []
  },
  {
   "cell_type": "code",
   "execution_count": null,
   "metadata": {},
   "outputs": [],
   "source": []
  }
 ],
 "metadata": {
  "kernelspec": {
   "display_name": ".venv",
   "language": "python",
   "name": "python3"
  },
  "language_info": {
   "codemirror_mode": {
    "name": "ipython",
    "version": 3
   },
   "file_extension": ".py",
   "mimetype": "text/x-python",
   "name": "python",
   "nbconvert_exporter": "python",
   "pygments_lexer": "ipython3",
   "version": "3.11.6"
  }
 },
 "nbformat": 4,
 "nbformat_minor": 2
}
